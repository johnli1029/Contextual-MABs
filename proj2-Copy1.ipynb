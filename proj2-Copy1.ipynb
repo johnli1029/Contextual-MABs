{
 "cells": [
  {
   "cell_type": "markdown",
   "metadata": {},
   "source": [
    "# COMP90051 Project 2"
   ]
  },
  {
   "cell_type": "code",
   "execution_count": 1,
   "metadata": {},
   "outputs": [],
   "source": [
    "# Do not edit. These are the only imports permitted.\n",
    "%matplotlib inline\n",
    "import numpy as np\n",
    "from numpy.linalg import inv\n",
    "import matplotlib.pyplot as plt\n",
    "from abc import ABC, abstractmethod"
   ]
  },
  {
   "cell_type": "markdown",
   "metadata": {},
   "source": [
    "## 1. Implementing ε-Greedy and UCB"
   ]
  },
  {
   "cell_type": "code",
   "execution_count": 2,
   "metadata": {},
   "outputs": [],
   "source": [
    "class MAB(ABC):\n",
    "    \"\"\"\n",
    "    Abstract class that represents a multi-armed bandit (MAB)\n",
    "    \"\"\"\n",
    "    \n",
    "    @abstractmethod\n",
    "    def play(self, tround, context):\n",
    "        \"\"\"\n",
    "        Play a round\n",
    "        \n",
    "        Arguments\n",
    "        =========\n",
    "        tround : int\n",
    "            positive integer identifying the round\n",
    "        \n",
    "        context : 1D float array, shape (self.ndims * self.narms), optional\n",
    "            context given to the arms\n",
    "        \n",
    "        Returns\n",
    "        =======\n",
    "        arm : int\n",
    "            the positive integer arm id for this round\n",
    "        \"\"\"\n",
    "    \n",
    "    @abstractmethod\n",
    "    def update(self, arm, reward, context):\n",
    "        \"\"\"\n",
    "        Updates the internal state of the MAB after a play\n",
    "        \n",
    "        Arguments\n",
    "        =========\n",
    "        arm : int\n",
    "            a positive integer arm id in {1, ..., self.narms}\n",
    "        \n",
    "        reward : float\n",
    "            reward received from arm\n",
    "        \n",
    "        context : 1D float array, shape (self.ndims * self.narms), optional\n",
    "            context given to arms\n",
    "        \"\"\""
   ]
  },
  {
   "cell_type": "code",
   "execution_count": 3,
   "metadata": {},
   "outputs": [],
   "source": [
    "# Helper Functions\n",
    "\n",
    "def select_with_uniformly_tie_breaking(arr):\n",
    "    argmax_arr = np.argwhere(arr == np.amax(arr)).flatten()\n",
    "    return argmax_arr[np.random.randint(argmax_arr.shape[0])]"
   ]
  },
  {
   "cell_type": "code",
   "execution_count": 4,
   "metadata": {},
   "outputs": [],
   "source": [
    "class EpsGreedy(MAB):\n",
    "    \"\"\"\n",
    "    Epsilon-Greedy multi-armed bandit\n",
    "\n",
    "    Arguments\n",
    "    =========\n",
    "    narms : int\n",
    "        number of arms\n",
    "\n",
    "    epsilon : float\n",
    "        explore probability\n",
    "\n",
    "    Q0 : float, optional\n",
    "        initial value for the arms\n",
    "    \"\"\"\n",
    "    \n",
    "    def __init__(self, narms, epsilon, Q0=np.inf):\n",
    "        self.narms = narms\n",
    "        self.epsilon = epsilon\n",
    "        self.Q0 = Q0\n",
    "        self.times_pulled = np.zeros(narms)\n",
    "        self.cumulative_rewards = np.zeros(narms)\n",
    "\n",
    "        \n",
    "    def play(self, tround, context=None):\n",
    "        if np.random.binomial(1, self.epsilon):\n",
    "            return np.random.randint(self.narms) + 1\n",
    "        else:\n",
    "            Q_table = np.zeros(self.narms)\n",
    "            for i in range(self.narms):\n",
    "                if self.times_pulled[i] == 0:\n",
    "                    Q_table[i] = self.Q0\n",
    "                else:\n",
    "                    Q_table[i] = self.cumulative_rewards[i] / self.times_pulled[i]\n",
    "            return select_with_uniformly_tie_breaking(Q_table) + 1\n",
    "\n",
    "    def update(self, arm, reward, context=None):\n",
    "        self.cumulative_rewards[arm - 1] += reward\n",
    "        self.times_pulled[arm - 1] += 1\n",
    "        "
   ]
  },
  {
   "cell_type": "code",
   "execution_count": 5,
   "metadata": {},
   "outputs": [],
   "source": [
    "class UCB(MAB):\n",
    "    \"\"\"\n",
    "    Upper Confidence Bound (UCB) multi-armed bandit\n",
    "\n",
    "    Arguments\n",
    "    =========\n",
    "    narms : int\n",
    "        number of arms\n",
    "\n",
    "    rho : float\n",
    "        positive real explore-exploit parameter\n",
    "\n",
    "    Q0 : float, optional\n",
    "        initial value for the arms\n",
    "    \"\"\"\n",
    "    \n",
    "    def __init__(self, narms, rho, Q0=np.inf):\n",
    "        self.narms = narms\n",
    "        self.rho = rho\n",
    "        self.Q0 = Q0\n",
    "        self.times_pulled = np.zeros(narms)\n",
    "        self.cumulative_rewards = np.zeros(narms)\n",
    "    \n",
    "    def play(self, tround, context=None):\n",
    "        Q_table = np.zeros(self.narms)\n",
    "        \n",
    "        for i in range(self.narms):\n",
    "            if self.times_pulled[i] == 0:\n",
    "                Q_table[i] = self.Q0\n",
    "            else:\n",
    "                mu = self.cumulative_rewards[i] / self.times_pulled[i]\n",
    "                ucb = np.sqrt(self.rho * np.log(tround) / self.times_pulled[i])\n",
    "                Q_table[i] = mu + ucb\n",
    "\n",
    "        return select_with_uniformly_tie_breaking(Q_table) + 1\n",
    "        \n",
    "    def update(self, arm, reward, context=None):\n",
    "        self.cumulative_rewards[arm - 1] += reward\n",
    "        self.times_pulled[arm - 1] += 1\n",
    "        "
   ]
  },
  {
   "cell_type": "markdown",
   "metadata": {},
   "source": [
    "## 2. The Basic Thompson Bandit"
   ]
  },
  {
   "cell_type": "code",
   "execution_count": 6,
   "metadata": {},
   "outputs": [],
   "source": [
    "class BetaThompson(MAB):\n",
    "    \"\"\"\n",
    "    Beta-Bernoulli Thompson sampling multi-armed bandit\n",
    "\n",
    "    Arguments\n",
    "    =========\n",
    "    narms : int\n",
    "        number of arms\n",
    "\n",
    "    alpha0 : float, optional\n",
    "        positive real prior hyperparameter\n",
    "\n",
    "    beta0 : float, optional\n",
    "        positive real prior hyperparameter\n",
    "    \"\"\"\n",
    "    \n",
    "    def __init__(self, narms, alpha0=1.0, beta0=1.0):\n",
    "        self.narms = narms\n",
    "        self.alpha0 = alpha0\n",
    "        self.beta0 = beta0\n",
    "        self.success = np.zeros(narms)\n",
    "        self.fail = np.zeros(narms)\n",
    "        \n",
    "    def play(self, tround, context=None):\n",
    "        sampling_table = np.zeros(self.narms)\n",
    "        for i in range(self.narms):\n",
    "            sampling_table[i] = np.random.beta(self.alpha0+self.success[i], self.beta0+self.fail[i])\n",
    "\n",
    "        return select_with_uniformly_tie_breaking(sampling_table) + 1\n",
    "        \n",
    "    def update(self, arm, reward, context=None):\n",
    "        if reward:\n",
    "            self.success[arm-1] += 1\n",
    "        else:\n",
    "            self.fail[arm-1] += 1"
   ]
  },
  {
   "cell_type": "markdown",
   "metadata": {},
   "source": [
    "## 3. Off-Policy Evaluation"
   ]
  },
  {
   "cell_type": "code",
   "execution_count": 7,
   "metadata": {},
   "outputs": [],
   "source": [
    "def offlineEvaluate(mab, arms, rewards, contexts, nrounds=None):\n",
    "    \"\"\"\n",
    "    Offline evaluation of a multi-armed bandit\n",
    "    \n",
    "    Arguments\n",
    "    =========\n",
    "    mab : instance of MAB\n",
    "    \n",
    "    arms : 1D int array, shape (nevents,) \n",
    "        integer arm id for each event\n",
    "    \n",
    "    rewards : 1D float array, shape (nevents,)\n",
    "        reward received for each event\n",
    "    \n",
    "    contexts : 2D float array, shape (nevents, mab.narms*nfeatures)\n",
    "        contexts presented to the arms (stacked horizontally) \n",
    "        for each event.\n",
    "        \n",
    "    nrounds : int, optional\n",
    "        number of matching events to evaluate `mab` on.\n",
    "    \n",
    "    Returns\n",
    "    =======\n",
    "    out : 1D float array\n",
    "        rewards for the matching events\n",
    "    \"\"\"\n",
    "    \n",
    "    matching_rewards = []\n",
    "    \n",
    "    if nrounds != None:\n",
    "        event_index = 0\n",
    "        N_EVENTS = arms.shape[0]\n",
    "        for t in range(1, nrounds+1):\n",
    "            if (event_index >= N_EVENTS):\n",
    "                break\n",
    "\n",
    "            while True:\n",
    "                mab_chosen_arm = mab.play(t, contexts[event_index])\n",
    "                logging_arm = arms[event_index]\n",
    "                if mab_chosen_arm == logging_arm:\n",
    "                    reward = rewards[event_index]\n",
    "                    matching_rewards.append(reward)\n",
    "                    mab.update(mab_chosen_arm, reward, contexts[event_index])\n",
    "                    event_index += 1\n",
    "                    break\n",
    "                    \n",
    "                event_index += 1\n",
    "                if event_index >= N_EVENTS:\n",
    "                    break\n",
    "                \n",
    "    return np.array(matching_rewards)"
   ]
  },
  {
   "cell_type": "code",
   "execution_count": 8,
   "metadata": {},
   "outputs": [],
   "source": [
    "with open(r\"./dataset.txt\", 'r') as fhand:\n",
    "    events = np.array([line.strip().split(\" \") for line in fhand]).astype(\"int32\")\n",
    "    arms, rewards, contexts = np.hsplit(events, [1,2])\n",
    "    arms = arms.flatten()\n",
    "    rewards = rewards.flatten()"
   ]
  },
  {
   "cell_type": "code",
   "execution_count": 9,
   "metadata": {},
   "outputs": [
    {
     "name": "stdout",
     "output_type": "stream",
     "text": [
      "EpsGreedy average reward 0.13811007268951195\n"
     ]
    }
   ],
   "source": [
    "mab = EpsGreedy(10, 0.05)\n",
    "results_EpsGreedy = offlineEvaluate(mab, arms, rewards, contexts, 8000)\n",
    "print('EpsGreedy average reward', np.mean(results_EpsGreedy))"
   ]
  },
  {
   "cell_type": "code",
   "execution_count": 10,
   "metadata": {},
   "outputs": [
    {
     "name": "stdout",
     "output_type": "stream",
     "text": [
      "UCB average reward 0.16040609137055836\n"
     ]
    }
   ],
   "source": [
    "mab = UCB(10, 1.0)\n",
    "results_UCB = offlineEvaluate(mab, arms, rewards, contexts, 8000)\n",
    "print('UCB average reward', np.mean(results_UCB))"
   ]
  },
  {
   "cell_type": "code",
   "execution_count": 11,
   "metadata": {},
   "outputs": [
    {
     "name": "stdout",
     "output_type": "stream",
     "text": [
      "BetaThompson average reward 0.19447287615148415\n"
     ]
    }
   ],
   "source": [
    "mab = BetaThompson(10, 1.0, 1.0)\n",
    "results_BetaThompson = offlineEvaluate(mab, arms, rewards, contexts, 8000)\n",
    "print('BetaThompson average reward', np.mean(results_BetaThompson))"
   ]
  },
  {
   "cell_type": "markdown",
   "metadata": {},
   "source": [
    "## 4. Contextual Bandits - LinUCB"
   ]
  },
  {
   "cell_type": "code",
   "execution_count": 12,
   "metadata": {},
   "outputs": [],
   "source": [
    "class LinUCB(MAB):\n",
    "    \"\"\"\n",
    "    Contextual multi-armed bandit (LinUCB)\n",
    "\n",
    "    Arguments\n",
    "    =========\n",
    "    narms : int\n",
    "        number of arms\n",
    "\n",
    "    ndims : int\n",
    "        number of dimensions for each arm's context\n",
    "\n",
    "    alpha : float\n",
    "        positive real explore-exploit parameter\n",
    "    \"\"\"\n",
    "    \n",
    "    def __init__(self, narms, ndims, alpha):\n",
    "        self.narms = narms\n",
    "        self.ndims = ndims\n",
    "        self.alpha = alpha\n",
    "        self.A = np.stack([np.identity(ndims) for _ in range(narms)], axis=0)\n",
    "        self.b = np.zeros((narms, ndims, 1))\n",
    "        \n",
    "    def play(self, tround, context):\n",
    "        context = context.reshape((self.narms, self.ndims))\n",
    "        \n",
    "        p_arr = np.zeros(self.narms)\n",
    "        for i in range (self.narms):\n",
    "            feature = context[i].reshape(self.ndims, 1) # shape(ndims, 1)\n",
    "            A_i_inv = np.linalg.inv(self.A[i])\n",
    "            theta_i = A_i_inv @ self.b[i] # shape(ndims, 1)\n",
    "            p_arr[i] = theta_i.T@feature + self.alpha*np.sqrt(feature.T@A_i_inv@feature)\n",
    "            \n",
    "        return select_with_uniformly_tie_breaking(p_arr) + 1\n",
    "    \n",
    "    def update(self, arm, reward, context):\n",
    "        feature = context.reshape((self.narms, self.ndims))[arm-1].reshape((self.ndims,1))\n",
    "        self.A[arm-1] += feature @ feature.T\n",
    "        self.b[arm-1] += reward * feature\n",
    "    "
   ]
  },
  {
   "cell_type": "code",
   "execution_count": 13,
   "metadata": {},
   "outputs": [
    {
     "name": "stdout",
     "output_type": "stream",
     "text": [
      "LinUCB average reward 0.5632530120481928\n"
     ]
    }
   ],
   "source": [
    "mab = LinUCB(10, 10, 1.0)\n",
    "results_LinUCB = offlineEvaluate(mab, arms, rewards, contexts, 8000)\n",
    "print('LinUCB average reward', np.mean(results_LinUCB))"
   ]
  },
  {
   "cell_type": "markdown",
   "metadata": {},
   "source": [
    "## 5. Contextual Bandits - LinThompson"
   ]
  },
  {
   "cell_type": "code",
   "execution_count": 14,
   "metadata": {},
   "outputs": [],
   "source": [
    "class LinThompson(MAB):\n",
    "    \"\"\"\n",
    "    Contextual Thompson sampled multi-armed bandit (LinThompson)\n",
    "\n",
    "    Arguments\n",
    "    =========\n",
    "    narms : int\n",
    "        number of arms\n",
    "\n",
    "    ndims : int\n",
    "        number of dimensions for each arm's context\n",
    "\n",
    "    v : float\n",
    "        positive real explore-exploit parameter\n",
    "    \"\"\"\n",
    "    \n",
    "    def __init__(self, narms, ndims, v):\n",
    "        self.narms = narms\n",
    "        self.ndims = ndims\n",
    "        self.v = v\n",
    "        self.mu_mean = np.zeros(ndims)\n",
    "        self.f = np.zeros(ndims)\n",
    "        self.B = np.identity(ndims)\n",
    "        \n",
    "        \n",
    "    def play(self, tround, context):\n",
    "        mu_sampled = np.random.multivariate_normal(self.mu_mean, self.v**2 * np.linalg.inv(self.B))\n",
    "        context = context.reshape((self.narms, self.ndims))\n",
    "        \n",
    "        rewards_table = np.zeros(self.narms)\n",
    "        for i in range(self.narms):\n",
    "            feature = context[i].reshape((self.ndims,1))\n",
    "            rewards_table[i] = feature.T @ mu_sampled\n",
    "        \n",
    "        return select_with_uniformly_tie_breaking(rewards_table) + 1\n",
    "            \n",
    "    \n",
    "    def update(self, arm, reward, context):\n",
    "        feature = context.reshape((self.narms, self.ndims))[arm-1].reshape((self.ndims, 1))\n",
    "        self.B += feature @ feature.T\n",
    "        self.f += reward * feature.ravel()\n",
    "        self.mu_mean += np.linalg.inv(self.B) @ self.f\n",
    "        "
   ]
  },
  {
   "cell_type": "code",
   "execution_count": 15,
   "metadata": {},
   "outputs": [
    {
     "name": "stdout",
     "output_type": "stream",
     "text": [
      "LinThompson average reward 0.44\n"
     ]
    }
   ],
   "source": [
    "mab = LinThompson(10, 10, 1.0)\n",
    "results_LinThompson = offlineEvaluate(mab, arms, rewards, contexts, 800)\n",
    "print('LinThompson average reward', np.mean(results_LinThompson))"
   ]
  },
  {
   "cell_type": "markdown",
   "metadata": {},
   "source": [
    "## 6. Evaluation\n",
    "### 6.A."
   ]
  },
  {
   "cell_type": "code",
   "execution_count": null,
   "metadata": {},
   "outputs": [],
   "source": []
  },
  {
   "cell_type": "markdown",
   "metadata": {},
   "source": [
    "### 6.B."
   ]
  },
  {
   "cell_type": "code",
   "execution_count": null,
   "metadata": {},
   "outputs": [],
   "source": []
  }
 ],
 "metadata": {
  "kernelspec": {
   "display_name": "Python 3",
   "language": "python",
   "name": "python3"
  },
  "language_info": {
   "codemirror_mode": {
    "name": "ipython",
    "version": 3
   },
   "file_extension": ".py",
   "mimetype": "text/x-python",
   "name": "python",
   "nbconvert_exporter": "python",
   "pygments_lexer": "ipython3",
   "version": "3.6.8"
  }
 },
 "nbformat": 4,
 "nbformat_minor": 2
}
